{
 "cells": [
  {
   "cell_type": "markdown",
   "metadata": {
    "dc": {
     "key": "5"
    },
    "deletable": false,
    "editable": false,
    "run_control": {
     "frozen": true
    },
    "tags": [
     "context"
    ]
   },
   "source": [
    "## Practical Exam: Loan Insights\n",
    "<p>EasyLoan offers a wide range of loan services, including personal loans, car loans, and mortgages.</p>\n",
    "<p>EasyLoan offers loans to clients from Canada, United Kingdom and United States.</p>\n",
    "<p>The analytics team wants to report performance across different geographic areas. They aim to identify areas of strength and weakness for the business strategy team.</p>\n",
    "<p>They need your help to ensure the data is accessible and reliable before they start reporting.</p>\n",
    "<p>The data you need is in the database named <code>lending</code>.</p>\n",
    "<p><strong>Database Schema</strong></p>\n",
    "<p><img src=\"https://assets.datacamp.com/production/project_1748/img/lending_schema.png\" alt=\"database schema\"></p>\n",
    "<h2 id=\"task1\">Task 1</h2>\n",
    "<p>The analytics team wants to use the <code>client</code> table to create a dashboard for client details. For them to proceed, they need to be sure the data is clean enough to use.</p>\n",
    "<p>The <code>client</code> table below illustrates what the analytics team expects the data types and format to be.</p>\n",
    "<table>\n",
    "<thead>\n",
    "<tr>\n",
    "<th>Column Name</th>\n",
    "<th>Description</th>\n",
    "</tr>\n",
    "</thead>\n",
    "<tbody>\n",
    "<tr>\n",
    "<td>client_id</td>\n",
    "<td>Unique integer (set by the database, can’t take any other value)</td>\n",
    "</tr>\n",
    "<tr>\n",
    "<td>date_of_birth</td>\n",
    "<td>Date of birth of the client, as a date  (format: YYYY-MM-DD)</td>\n",
    "</tr>\n",
    "<tr>\n",
    "<td>employment_status</td>\n",
    "<td>Current employment status of the client, either employed or unemployed, as a lower case string</td>\n",
    "</tr>\n",
    "<tr>\n",
    "<td>country</td>\n",
    "<td>The country where the client resides, either USA, UK or CA, as an upper case string</td>\n",
    "</tr>\n",
    "</tbody>\n",
    "</table>\n",
    "<p>Write a query to ensure that the <code>client</code> table matches the description provided. Your query should not update the <code>client</code> table.</p>"
   ]
  },
  {
   "cell_type": "code",
   "execution_count": 67,
   "metadata": {
    "dc": {
     "key": "5"
    },
    "tags": [
     "sample_code"
    ]
   },
   "outputs": [
    {
     "name": "stdout",
     "output_type": "stream",
     "text": [
      "1 rows affected.\n"
     ]
    },
    {
     "data": {
      "text/html": [
       "<table>\n",
       "    <tr>\n",
       "        <th>client_id_unique_check</th>\n",
       "        <th>dob_check</th>\n",
       "        <th>employment_status_check</th>\n",
       "        <th>country_check</th>\n",
       "    </tr>\n",
       "    <tr>\n",
       "        <td>✅</td>\n",
       "        <td>❌</td>\n",
       "        <td>❌</td>\n",
       "        <td>✅</td>\n",
       "    </tr>\n",
       "</table>"
      ],
      "text/plain": [
       "[('✅', '❌', '❌', '✅')]"
      ]
     },
     "execution_count": 67,
     "metadata": {},
     "output_type": "execute_result"
    }
   ],
   "source": [
    "%%sql \n",
    "postgresql:///lending\n",
    "\n",
    "SELECT\n",
    "  -- Check if client_id is unique\n",
    "  CASE \n",
    "    WHEN COUNT(client_id) = COUNT(DISTINCT client_id) THEN '✅'\n",
    "    ELSE '❌'\n",
    "  END AS client_id_unique_check,\n",
    "\n",
    "  -- Check date_of_birth is in correct format (YYYY-MM-DD) using a regular expression\n",
    "  CASE \n",
    "    WHEN COUNT(*) = COUNT(CASE WHEN date_of_birth ~ '^\\d{{4}}-\\d{{2}}-\\d{{2}}$' THEN 1 END) \n",
    "    THEN '✅'\n",
    "    ELSE '❌'\n",
    "  END AS dob_check,\n",
    "\n",
    "  -- Check employment_status is either 'employed' or 'unemployed'\n",
    "  CASE \n",
    "    WHEN COUNT(*) = COUNT(CASE WHEN employment_status IN ('employed', 'unemployed') THEN 1 END) \n",
    "    THEN '✅'\n",
    "    ELSE '❌'\n",
    "  END AS employment_status_check,\n",
    "\n",
    "  -- Check country is either 'USA', 'UK', or 'CA'\n",
    "  CASE \n",
    "    WHEN COUNT(*) = COUNT(CASE WHEN country IN ('USA', 'UK', 'CA') THEN 1 END) \n",
    "    THEN '✅'\n",
    "    ELSE '❌'\n",
    "  END AS country_check\n",
    "\n",
    "FROM client;"
   ]
  },
  {
   "cell_type": "code",
   "execution_count": 68,
   "metadata": {
    "dc": {
     "key": "5"
    },
    "hide": true,
    "tags": [
     "tests"
    ]
   },
   "outputs": [
    {
     "ename": "KeyError",
     "evalue": "'client_id'",
     "output_type": "error",
     "traceback": [
      "---------------------------------------------------------------------------",
      "KeyError                                  Traceback (most recent call last)",
      "Input In [68], in <cell line: 1>()\n----> 1 get_ipython().run_cell_magic('nose', '', '\\nimport pandas as pd\\nimport numpy as np\\n\\nlast_output = _\\n\\n# load the dataset\\ntest_solution = pd.read_csv(\\'datasets/task1.csv\\')\\n\\nstudent_result = last_output.DataFrame().sort_values(by=\\'client_id\\')\\ntest_solution[\\'date_of_birth\\'] = test_solution[\\'date_of_birth\\'].astype(\\'string\\')\\nstudent_result[\\'date_of_birth\\'] = student_result[\\'date_of_birth\\'].astype(\\'string\\')\\n\\ndef test_ksa1():  \\n    assert student_result.shape == (300, 4), \\\\\\n    \"Clean categorical and text data by manipulating strings. \"\\n    assert (test_solution[\\'employment_status\\'].str.strip().values == student_result[\\'employment_status\\'].str.strip().values).all(), \\\\\\n    \"Clean categorical and text data by manipulating strings. \"\\n         \\ndef test_ksa2():\\n    assert student_result.shape == (300, 4), \\\\\\n    \"Convert values between data types.\"\\n    assert (test_solution[\\'date_of_birth\\'].values == student_result[\\'date_of_birth\\'].values).all(), \\\\\\n    \"Convert values between data types. \"\\n')\n",
      "File /usr/local/lib/python3.9/dist-packages/IPython/core/interactiveshell.py:2338, in InteractiveShell.run_cell_magic(self, magic_name, line, cell)\n   2336 with self.builtin_trap:\n   2337     args = (magic_arg_s, cell)\n-> 2338     result = fn(*args, **kwargs)\n   2339 return result\n",
      "File /usr/local/lib/python3.9/dist-packages/ipython_nose.py:293, in nose(line, cell, test_module)\n    291     selector = ExcludingTestSelector(config, test_module.__dict__.values())\n    292     # Evaluate the cell and add objects it defined into the test module.\n--> 293     exec(cell, test_module.__dict__)\n    294 loader = nose_loader.TestLoader(config=config, selector=selector)\n    295 tests = loader.loadTestsFromModule(test_module)\n",
      "File <string>:10, in <module>\n",
      "File /usr/local/lib/python3.9/dist-packages/pandas/util/_decorators.py:311, in deprecate_nonkeyword_arguments.<locals>.decorate.<locals>.wrapper(*args, **kwargs)\n    305 if len(args) > num_allow_args:\n    306     warnings.warn(\n    307         msg.format(arguments=arguments),\n    308         FutureWarning,\n    309         stacklevel=stacklevel,\n    310     )\n--> 311 return func(*args, **kwargs)\n",
      "File /usr/local/lib/python3.9/dist-packages/pandas/core/frame.py:6259, in DataFrame.sort_values(self, by, axis, ascending, inplace, kind, na_position, ignore_index, key)\n   6256 elif len(by):\n   6258     by = by[0]\n-> 6259     k = self._get_label_or_level_values(by, axis=axis)\n   6261     # need to rewrap column in Series to apply key function\n   6262     if key is not None:\n   6263         # error: Incompatible types in assignment (expression has type\n   6264         # \"Series\", variable has type \"ndarray\")\n",
      "File /usr/local/lib/python3.9/dist-packages/pandas/core/generic.py:1779, in NDFrame._get_label_or_level_values(self, key, axis)\n   1777     values = self.axes[axis].get_level_values(key)._values\n   1778 else:\n-> 1779     raise KeyError(key)\n   1781 # Check for duplicates\n   1782 if values.ndim > 1:\n",
      "KeyError: 'client_id'"
     ]
    }
   ],
   "source": [
    "%%nose\n",
    "\n",
    "import pandas as pd\n",
    "import numpy as np\n",
    "\n",
    "last_output = _\n",
    "\n",
    "# load the dataset\n",
    "test_solution = pd.read_csv('datasets/task1.csv')\n",
    "\n",
    "student_result = last_output.DataFrame().sort_values(by='client_id')\n",
    "test_solution['date_of_birth'] = test_solution['date_of_birth'].astype('string')\n",
    "student_result['date_of_birth'] = student_result['date_of_birth'].astype('string')\n",
    "\n",
    "def test_ksa1():  \n",
    "    assert student_result.shape == (300, 4), \\\n",
    "    \"Clean categorical and text data by manipulating strings. \"\n",
    "    assert (test_solution['employment_status'].str.strip().values == student_result['employment_status'].str.strip().values).all(), \\\n",
    "    \"Clean categorical and text data by manipulating strings. \"\n",
    "         \n",
    "def test_ksa2():\n",
    "    assert student_result.shape == (300, 4), \\\n",
    "    \"Convert values between data types.\"\n",
    "    assert (test_solution['date_of_birth'].values == student_result['date_of_birth'].values).all(), \\\n",
    "    \"Convert values between data types. \""
   ]
  },
  {
   "cell_type": "markdown",
   "metadata": {
    "dc": {
     "key": "12"
    },
    "deletable": false,
    "editable": false,
    "run_control": {
     "frozen": true
    },
    "tags": [
     "context"
    ]
   },
   "source": [
    "## Task 2\n",
    "<p>You have been informed that there was a problem in the backend system as some of the <code>repayment_channel</code> values are missing. </p>\n",
    "<p>The missing values are critical to the analysis so they need to be filled in before proceeding.</p>\n",
    "<p>Luckily, they have discovered a pattern in the missing values:</p>\n",
    "<ul>\n",
    "<li>Repayment higher than 4000 dollars should be made via <code>bank account</code>.</li>\n",
    "<li>Repayment lower than 1000 dollars should be made via <code>mail</code>.</li>\n",
    "</ul>\n",
    "<p>Return the corrected <code>repayment</code> table.</p>"
   ]
  },
  {
   "cell_type": "code",
   "execution_count": null,
   "metadata": {
    "dc": {
     "key": "12"
    },
    "tags": [
     "sample_code"
    ]
   },
   "outputs": [],
   "source": [
    "%%sql \n",
    "postgresql:///lending\n",
    "\n",
    "UPDATE repayment\n",
    "SET repayment_channel = CASE\n",
    "    WHEN repayment_amount > 4000 THEN 'bank account'\n",
    "    WHEN repayment_amount < 1000 THEN 'mail'\n",
    "    ELSE repayment_channel\n",
    "END\n",
    "WHERE repayment_channel IS NULL OR repayment_channel = '-';"
   ]
  },
  {
   "cell_type": "code",
   "execution_count": null,
   "metadata": {
    "dc": {
     "key": "12"
    },
    "hide": true,
    "tags": [
     "tests"
    ]
   },
   "outputs": [],
   "source": [
    "%%nose\n",
    "\n",
    "import pandas as pd\n",
    "import numpy as np\n",
    "\n",
    "last_output = _\n",
    "\n",
    "# load the dataset\n",
    "test_solution = pd.read_csv('datasets/task2.csv')\n",
    "student_result = last_output.DataFrame().sort_values(by='repayment_id')\n",
    "\n",
    "def test_ksa1():  \n",
    "    assert student_result.shape == (1500, 5), \\\n",
    "    \"Identify and replace missing values.\"\n",
    "    assert (test_solution['repayment_channel'].str.strip().values == student_result['repayment_channel'].str.strip().values).all(), \\\n",
    "    \"Identify and replace missing values.\""
   ]
  },
  {
   "cell_type": "markdown",
   "metadata": {
    "dc": {
     "key": "19"
    },
    "deletable": false,
    "editable": false,
    "run_control": {
     "frozen": true
    },
    "tags": [
     "context"
    ]
   },
   "source": [
    "## Task 3\n",
    "<p>Starting on January 1st, 2022, all US clients started to use an online signing system.</p>\n",
    "<p>The analytics team wants to analyze the loan portfolio for the US clients via the new online signing system.</p>\n",
    "<p><img src=\"https://assets.datacamp.com/production/project_1748/img/lending_schema.png\" alt=\"database schema\"></p>\n",
    "<p>Write a query that returns the data for the analytics team. Your output should include <code>client_id</code>,<code>contract_date</code>, <code>principal_amount</code> and <code>loan_type</code> columns.</p>"
   ]
  },
  {
   "cell_type": "code",
   "execution_count": null,
   "metadata": {
    "dc": {
     "key": "19"
    },
    "tags": [
     "sample_code"
    ]
   },
   "outputs": [],
   "source": [
    "%%sql \n",
    "postgresql:///lending\n",
    "\n",
    "SELECT\n",
    "    l.client_id,\n",
    "    c.contract_date,\n",
    "    l.principal_amount,\n",
    "    l.loan_type\n",
    "FROM\n",
    "    loan l\n",
    "LEFT JOIN\n",
    "    contract c ON l.contract_id = c.contract_id;"
   ]
  },
  {
   "cell_type": "code",
   "execution_count": null,
   "metadata": {
    "dc": {
     "key": "19"
    },
    "hide": true,
    "tags": [
     "tests"
    ]
   },
   "outputs": [],
   "source": [
    "%%nose\n",
    "\n",
    "import pandas as pd\n",
    "import numpy as np\n",
    "\n",
    "last_output = _\n",
    "\n",
    "# load the dataset\n",
    "test_solution = pd.read_csv('datasets/task3.csv')\n",
    "\n",
    "student_result = last_output.DataFrame().sort_values(by=['client_id','contract_date','principal_amount'])\n",
    "\n",
    "\n",
    "def test_ksa1():  \n",
    "    assert student_result.shape == (94, 4), \\\n",
    "    \"Extract data based on different conditions using PostgreSQL.\"\n",
    "    assert (test_solution['client_id'].values == student_result['client_id'].values).all(), \\\n",
    "    \"Extract data based on different conditions using PostgreSQL.\"\n",
    "\n",
    "def test_ksa2():\n",
    "    assert student_result.shape == (94, 4), \\\n",
    "        \"Interpret a database schema and combine multiple tables by rows or columns using PostgreSQL.\"\n",
    "    assert (test_solution['principal_amount'].values == student_result['principal_amount'].values).all(), \\\n",
    "        \"Interpret a database schema and combine multiple tables by rows or columns using PostgreSQL.\""
   ]
  },
  {
   "cell_type": "markdown",
   "metadata": {
    "dc": {
     "key": "26"
    },
    "deletable": false,
    "editable": false,
    "run_control": {
     "frozen": true
    },
    "tags": [
     "context"
    ]
   },
   "source": [
    "## Task 4\n",
    "<p>The business strategy team is considering offering a more competitive rate to the US market. </p>\n",
    "<p>The analytic team want to compare the average interest rates offered by the company for the same loan type in different countries to determine if there are significant differences.</p>\n",
    "<p><img src=\"https://assets.datacamp.com/production/project_1748/img/lending_schema.png\" alt=\"database schema\"></p>\n",
    "<p>Write a query that returns the data for the analytics team. Your output should include <code>loan_type</code>, <code>country</code> and <code>avg_rate</code> columns.</p>"
   ]
  },
  {
   "cell_type": "code",
   "execution_count": null,
   "metadata": {
    "dc": {
     "key": "26"
    },
    "tags": [
     "sample_code"
    ]
   },
   "outputs": [],
   "source": [
    "%%sql \n",
    "postgresql:///lending\n",
    "    \n",
    "SELECT\n",
    "    l.loan_type,\n",
    "    c.country,\n",
    "    -- Rounded the result seems prettier\n",
    "    ROUND(AVG(l.interest_rate), 6) as avg_rate\n",
    "FROM\n",
    "    loan l\n",
    "LEFT JOIN\n",
    "    client c ON l.client_id = c.client_id\n",
    "GROUP BY\n",
    "    l.loan_type,\n",
    "    c.country\n",
    "ORDER BY\n",
    "    avg_rate;\n"
   ]
  },
  {
   "cell_type": "code",
   "execution_count": null,
   "metadata": {
    "dc": {
     "key": "26"
    },
    "hide": true,
    "tags": [
     "tests"
    ]
   },
   "outputs": [],
   "source": [
    "%%nose\n",
    "\n",
    "import pandas as pd\n",
    "import numpy as np\n",
    "\n",
    "last_output = _\n",
    "\n",
    "# load the dataset\n",
    "test_solution = pd.read_csv('datasets/task4.csv')\n",
    "\n",
    "student_result = last_output.DataFrame().sort_values(by=['loan_type','country','avg_rate'])\n",
    "student_result['avg_rate'] = student_result['avg_rate'].astype('float')\n",
    "test_solution['avg_rate'] = test_solution['avg_rate'].astype('float')\n",
    "student_result['avg_rate'] = student_result['avg_rate'].round(2)\n",
    "test_solution['avg_rate'] = test_solution['avg_rate'].round(2)\n",
    "student_result = student_result.reset_index(drop=True)\n",
    "\n",
    "def test_ksa1():  \n",
    "    assert student_result.shape == (9, 3), \\\n",
    "    \"Aggregate numeric, categorical variables and dates by groups using PostgreSQL.\"\n",
    "    assert (test_solution['avg_rate'] == student_result['avg_rate']).all(), \\\n",
    "    \"Aggregate numeric, categorical variables and dates by groups using PostgreSQL.\"\n",
    "\n",
    "def test_ksa2():  \n",
    "    assert student_result.shape == (9, 3), \\\n",
    "    \"Interpret a database schema and combine multiple tables by rows or columns using PostgreSQL.\"\n",
    "    assert (test_solution['country'].str.strip().values == student_result['country'].str.strip().values).all(),\\\n",
    "    \"Interpret a database schema and combine multiple tables by rows or columns using PostgreSQL.\""
   ]
  }
 ],
 "metadata": {
  "kernelspec": {
   "display_name": "Python 3 (ipykernel)",
   "language": "python",
   "name": "python3"
  },
  "language_info": {
   "codemirror_mode": {
    "name": "ipython",
    "version": 3
   },
   "file_extension": ".py",
   "mimetype": "text/x-python",
   "name": "python",
   "nbconvert_exporter": "python",
   "pygments_lexer": "ipython3",
   "version": "3.9.7"
  }
 },
 "nbformat": 4,
 "nbformat_minor": 2
}
